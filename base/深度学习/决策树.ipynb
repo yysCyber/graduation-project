{
 "cells": [
  {
   "cell_type": "markdown",
   "metadata": {},
   "source": [
    "# 决策树"
   ]
  },
  {
   "cell_type": "code",
   "execution_count": 2,
   "metadata": {},
   "outputs": [],
   "source": [
    "from sklearn.feature_extraction import DictVectorizer\n",
    "import csv\n",
    "from sklearn import preprocessing\n",
    "from sklearn import tree\n",
    "from sklearn.externals.six import StringIO"
   ]
  },
  {
   "cell_type": "code",
   "execution_count": 70,
   "metadata": {},
   "outputs": [],
   "source": [
    "# 读取 CSV 文件\n",
    "data = open(r'data\\\\1.csv')\n",
    "reader = csv.reader(data)"
   ]
  },
  {
   "cell_type": "code",
   "execution_count": 71,
   "metadata": {},
   "outputs": [],
   "source": [
    "# 数据预处理\n",
    "# scikit-learn 已经提供了决策树的实现，但是对于输入数据的格式有要求，所以要进行预处理\n",
    "\n",
    "# 特征列表\n",
    "feature_list = []\n",
    "# 结果（这里是“是否购买”，结果有两种，“买”与“没买”）列表\n",
    "result_list = []\n",
    "\n",
    "# CSV 文件中的标签\n",
    "headers = next(reader)\n",
    "\n",
    "# 遍历每一行\n",
    "for row in reader:\n",
    "    # 将结果存放在 result_list 中\n",
    "    result_list.append(row[len(row) - 1])\n",
    "    # 将每一行的特征以字典的形式存储，{特征: 特征值}\n",
    "    row_dict = {}\n",
    "    for i in range(1, len(row) - 1):\n",
    "        row_dict[headers[i]] = row[i]\n",
    "    feature_list.append(row_dict)"
   ]
  },
  {
   "cell_type": "code",
   "execution_count": 72,
   "metadata": {},
   "outputs": [
    {
     "data": {
      "text/plain": [
       "['no',\n",
       " 'no',\n",
       " 'yes',\n",
       " 'yes',\n",
       " 'yes',\n",
       " 'no',\n",
       " 'yes',\n",
       " 'no',\n",
       " 'yes',\n",
       " 'yes',\n",
       " 'yes',\n",
       " 'yes',\n",
       " 'yes',\n",
       " 'no']"
      ]
     },
     "execution_count": 72,
     "metadata": {},
     "output_type": "execute_result"
    }
   ],
   "source": [
    "result_list"
   ]
  },
  {
   "cell_type": "code",
   "execution_count": 73,
   "metadata": {},
   "outputs": [
    {
     "data": {
      "text/plain": [
       "[{'age': 'youth', 'income': 'high', 'student': 'no', 'credit_rating': 'fair'},\n",
       " {'age': 'youth',\n",
       "  'income': 'high',\n",
       "  'student': 'no',\n",
       "  'credit_rating': 'excellent'},\n",
       " {'age': 'middle_aged',\n",
       "  'income': 'high',\n",
       "  'student': 'no',\n",
       "  'credit_rating': 'fair'},\n",
       " {'age': 'senior',\n",
       "  'income': 'medium',\n",
       "  'student': 'no',\n",
       "  'credit_rating': 'fair'},\n",
       " {'age': 'senior', 'income': 'low', 'student': 'yes', 'credit_rating': 'fair'},\n",
       " {'age': 'senior',\n",
       "  'income': 'low',\n",
       "  'student': 'yes',\n",
       "  'credit_rating': 'excellent'},\n",
       " {'age': 'middle_aged',\n",
       "  'income': 'low',\n",
       "  'student': 'yes',\n",
       "  'credit_rating': 'excellent'},\n",
       " {'age': 'youth',\n",
       "  'income': 'medium',\n",
       "  'student': 'no',\n",
       "  'credit_rating': 'fair'},\n",
       " {'age': 'youth', 'income': 'low', 'student': 'yes', 'credit_rating': 'fair'},\n",
       " {'age': 'senior',\n",
       "  'income': 'medium',\n",
       "  'student': 'yes',\n",
       "  'credit_rating': 'fair'},\n",
       " {'age': 'youth',\n",
       "  'income': 'medium',\n",
       "  'student': 'yes',\n",
       "  'credit_rating': 'excellent'},\n",
       " {'age': 'middle_aged',\n",
       "  'income': 'medium',\n",
       "  'student': 'no',\n",
       "  'credit_rating': 'excellent'},\n",
       " {'age': 'middle_aged',\n",
       "  'income': 'high',\n",
       "  'student': 'yes',\n",
       "  'credit_rating': 'fair'},\n",
       " {'age': 'senior',\n",
       "  'income': 'medium',\n",
       "  'student': 'no',\n",
       "  'credit_rating': 'excellent'}]"
      ]
     },
     "execution_count": 73,
     "metadata": {},
     "output_type": "execute_result"
    }
   ],
   "source": [
    "feature_list"
   ]
  },
  {
   "cell_type": "code",
   "execution_count": 74,
   "metadata": {},
   "outputs": [],
   "source": [
    "# 利用已有的库进行数据预处理\n",
    "\n",
    "# 转化特征\n",
    "vec = DictVectorizer()\n",
    "dummy_x = vec.fit_transform(feature_list).toarray()"
   ]
  },
  {
   "cell_type": "code",
   "execution_count": 75,
   "metadata": {},
   "outputs": [
    {
     "data": {
      "text/plain": [
       "array([[0., 0., 1., 0., 1., 1., 0., 0., 1., 0.],\n",
       "       [0., 0., 1., 1., 0., 1., 0., 0., 1., 0.],\n",
       "       [1., 0., 0., 0., 1., 1., 0., 0., 1., 0.],\n",
       "       [0., 1., 0., 0., 1., 0., 0., 1., 1., 0.],\n",
       "       [0., 1., 0., 0., 1., 0., 1., 0., 0., 1.],\n",
       "       [0., 1., 0., 1., 0., 0., 1., 0., 0., 1.],\n",
       "       [1., 0., 0., 1., 0., 0., 1., 0., 0., 1.],\n",
       "       [0., 0., 1., 0., 1., 0., 0., 1., 1., 0.],\n",
       "       [0., 0., 1., 0., 1., 0., 1., 0., 0., 1.],\n",
       "       [0., 1., 0., 0., 1., 0., 0., 1., 0., 1.],\n",
       "       [0., 0., 1., 1., 0., 0., 0., 1., 0., 1.],\n",
       "       [1., 0., 0., 1., 0., 0., 0., 1., 1., 0.],\n",
       "       [1., 0., 0., 0., 1., 1., 0., 0., 0., 1.],\n",
       "       [0., 1., 0., 1., 0., 0., 0., 1., 1., 0.]])"
      ]
     },
     "execution_count": 75,
     "metadata": {},
     "output_type": "execute_result"
    }
   ],
   "source": [
    "dummy_x"
   ]
  },
  {
   "cell_type": "code",
   "execution_count": 76,
   "metadata": {},
   "outputs": [],
   "source": [
    "# 转化结果\n",
    "\n",
    "lb = preprocessing.LabelBinarizer()\n",
    "dummy_y = lb.fit_transform(result_list)"
   ]
  },
  {
   "cell_type": "code",
   "execution_count": 77,
   "metadata": {},
   "outputs": [
    {
     "data": {
      "text/plain": [
       "array([[0],\n",
       "       [0],\n",
       "       [1],\n",
       "       [1],\n",
       "       [1],\n",
       "       [0],\n",
       "       [1],\n",
       "       [0],\n",
       "       [1],\n",
       "       [1],\n",
       "       [1],\n",
       "       [1],\n",
       "       [1],\n",
       "       [0]])"
      ]
     },
     "execution_count": 77,
     "metadata": {},
     "output_type": "execute_result"
    }
   ],
   "source": [
    "dummy_y"
   ]
  },
  {
   "cell_type": "code",
   "execution_count": 78,
   "metadata": {},
   "outputs": [],
   "source": [
    "# 数据预处理后满足要求了，创建决策树\n",
    "\n",
    "# criterion='entropy' 指明 ID3\n",
    "clf = tree.DecisionTreeClassifier(criterion='entropy')\n",
    "clf = clf.fit(dummy_x, dummy_y)"
   ]
  },
  {
   "cell_type": "code",
   "execution_count": 79,
   "metadata": {},
   "outputs": [],
   "source": [
    "# 将生成的决策树输出成 DOT 文件，方便后续可视化\n",
    "with open('data\\\\1.dot', 'w') as f:\n",
    "    f = tree.export_graphviz(clf, feature_names=vec.get_feature_names(), out_file=f)"
   ]
  },
  {
   "cell_type": "code",
   "execution_count": 87,
   "metadata": {},
   "outputs": [
    {
     "data": {
      "text/plain": [
       "array([0., 0., 1., 0., 1., 1., 0., 0., 1., 0.])"
      ]
     },
     "execution_count": 87,
     "metadata": {},
     "output_type": "execute_result"
    }
   ],
   "source": [
    "# 预测\n",
    "\n",
    "x1 = dummy_x[0, :]\n",
    "x1"
   ]
  },
  {
   "cell_type": "code",
   "execution_count": 88,
   "metadata": {},
   "outputs": [
    {
     "data": {
      "text/plain": [
       "array([1., 0., 0., 0., 1., 1., 0., 0., 1., 0.])"
      ]
     },
     "execution_count": 88,
     "metadata": {},
     "output_type": "execute_result"
    }
   ],
   "source": [
    "# 将数据集中的第一个数据改一下，下面的操作是相当于将 age 由 youth 改为 middle_aged\n",
    "\n",
    "x2 = x1.copy()\n",
    "x2[0] = 1\n",
    "x2[2] = 0\n",
    "x2"
   ]
  },
  {
   "cell_type": "code",
   "execution_count": 89,
   "metadata": {},
   "outputs": [],
   "source": [
    "y2 = clf.predict([x2])"
   ]
  },
  {
   "cell_type": "code",
   "execution_count": 90,
   "metadata": {},
   "outputs": [
    {
     "data": {
      "text/plain": [
       "array([1])"
      ]
     },
     "execution_count": 90,
     "metadata": {},
     "output_type": "execute_result"
    }
   ],
   "source": [
    "y2"
   ]
  },
  {
   "cell_type": "code",
   "execution_count": 91,
   "metadata": {},
   "outputs": [
    {
     "data": {
      "text/plain": [
       "['age=middle_aged',\n",
       " 'age=senior',\n",
       " 'age=youth',\n",
       " 'credit_rating=excellent',\n",
       " 'credit_rating=fair',\n",
       " 'income=high',\n",
       " 'income=low',\n",
       " 'income=medium',\n",
       " 'student=no',\n",
       " 'student=yes']"
      ]
     },
     "execution_count": 91,
     "metadata": {},
     "output_type": "execute_result"
    }
   ],
   "source": [
    "vec.get_feature_names()"
   ]
  },
  {
   "cell_type": "code",
   "execution_count": 92,
   "metadata": {},
   "outputs": [
    {
     "data": {
      "text/plain": [
       "{'neg_label': 0, 'pos_label': 1, 'sparse_output': False}"
      ]
     },
     "execution_count": 92,
     "metadata": {},
     "output_type": "execute_result"
    }
   ],
   "source": [
    "lb.get_params()"
   ]
  }
 ],
 "metadata": {
  "kernelspec": {
   "display_name": "Python 3",
   "language": "python",
   "name": "python3"
  },
  "language_info": {
   "codemirror_mode": {
    "name": "ipython",
    "version": 3
   },
   "file_extension": ".py",
   "mimetype": "text/x-python",
   "name": "python",
   "nbconvert_exporter": "python",
   "pygments_lexer": "ipython3",
   "version": "3.7.4"
  }
 },
 "nbformat": 4,
 "nbformat_minor": 2
}
