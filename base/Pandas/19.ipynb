{
 "cells": [
  {
   "cell_type": "markdown",
   "metadata": {},
   "source": [
    "# Pandas"
   ]
  },
  {
   "cell_type": "code",
   "execution_count": 15,
   "metadata": {},
   "outputs": [],
   "source": [
    "import numpy as np\n",
    "import pandas as pd\n",
    "import datetime\n",
    "import matplotlib.pyplot as plt\n",
    "from pandas import Series, DataFrame\n",
    "from datetime import datetime"
   ]
  },
  {
   "cell_type": "markdown",
   "metadata": {},
   "source": [
    "### 1"
   ]
  },
  {
   "cell_type": "code",
   "execution_count": 2,
   "metadata": {},
   "outputs": [
    {
     "data": {
      "text/plain": [
       "DatetimeIndex(['2019-01-01', '2019-01-02', '2019-01-03', '2019-01-04',\n",
       "               '2019-01-05', '2019-01-06', '2019-01-07', '2019-01-08',\n",
       "               '2019-01-09', '2019-01-10',\n",
       "               ...\n",
       "               '2019-12-22', '2019-12-23', '2019-12-24', '2019-12-25',\n",
       "               '2019-12-26', '2019-12-27', '2019-12-28', '2019-12-29',\n",
       "               '2019-12-30', '2019-12-31'],\n",
       "              dtype='datetime64[ns]', length=365, freq='D')"
      ]
     },
     "execution_count": 2,
     "metadata": {},
     "output_type": "execute_result"
    }
   ],
   "source": [
    "datetime_index_1 = pd.date_range(start='2019-01-01', end='2019-12-31', freq='D')\n",
    "datetime_index_1"
   ]
  },
  {
   "cell_type": "code",
   "execution_count": 3,
   "metadata": {},
   "outputs": [
    {
     "data": {
      "text/plain": [
       "2019-01-01    0.653888\n",
       "2019-01-02   -1.266449\n",
       "2019-01-03    0.227650\n",
       "2019-01-04   -1.620776\n",
       "2019-01-05    1.766208\n",
       "                ...   \n",
       "2019-12-27   -0.571024\n",
       "2019-12-28    0.180829\n",
       "2019-12-29    0.631601\n",
       "2019-12-30   -1.561959\n",
       "2019-12-31    0.216733\n",
       "Freq: D, Length: 365, dtype: float64"
      ]
     },
     "execution_count": 3,
     "metadata": {},
     "output_type": "execute_result"
    }
   ],
   "source": [
    "s1 = Series(np.random.randn(len(datetime_index_1)), index=datetime_index_1)\n",
    "s1"
   ]
  },
  {
   "cell_type": "code",
   "execution_count": 5,
   "metadata": {},
   "outputs": [
    {
     "data": {
      "text/plain": [
       "0.011724771295584264"
      ]
     },
     "execution_count": 5,
     "metadata": {},
     "output_type": "execute_result"
    }
   ],
   "source": [
    "s1['2019-01'].mean()"
   ]
  },
  {
   "cell_type": "code",
   "execution_count": 7,
   "metadata": {},
   "outputs": [
    {
     "data": {
      "text/plain": [
       "2019-01-31    0.011725\n",
       "2019-02-28    0.255553\n",
       "2019-03-31    0.019527\n",
       "2019-04-30    0.016404\n",
       "2019-05-31    0.151496\n",
       "2019-06-30    0.055596\n",
       "2019-07-31    0.317052\n",
       "2019-08-31   -0.277619\n",
       "2019-09-30   -0.124109\n",
       "2019-10-31    0.168710\n",
       "2019-11-30    0.248141\n",
       "2019-12-31   -0.083713\n",
       "Freq: M, dtype: float64"
      ]
     },
     "execution_count": 7,
     "metadata": {},
     "output_type": "execute_result"
    }
   ],
   "source": [
    "s2 = s1.resample('M').mean()\n",
    "s2"
   ]
  },
  {
   "cell_type": "markdown",
   "metadata": {},
   "source": [
    "### 2"
   ]
  },
  {
   "cell_type": "code",
   "execution_count": 8,
   "metadata": {},
   "outputs": [
    {
     "data": {
      "text/plain": [
       "2019-01-01    0.653888\n",
       "2019-01-02   -1.266449\n",
       "2019-01-03    0.227650\n",
       "2019-01-04   -1.620776\n",
       "2019-01-05    1.766208\n",
       "                ...   \n",
       "2019-12-27   -0.571024\n",
       "2019-12-28    0.180829\n",
       "2019-12-29    0.631601\n",
       "2019-12-30   -1.561959\n",
       "2019-12-31    0.216733\n",
       "Freq: D, Length: 365, dtype: float64"
      ]
     },
     "execution_count": 8,
     "metadata": {},
     "output_type": "execute_result"
    }
   ],
   "source": [
    "s1"
   ]
  },
  {
   "cell_type": "code",
   "execution_count": 9,
   "metadata": {},
   "outputs": [
    {
     "data": {
      "text/plain": [
       "2019-01-01 00:00:00    0.653888\n",
       "2019-01-01 01:00:00    0.653888\n",
       "2019-01-01 02:00:00    0.653888\n",
       "2019-01-01 03:00:00    0.653888\n",
       "2019-01-01 04:00:00    0.653888\n",
       "                         ...   \n",
       "2019-12-30 20:00:00   -1.561959\n",
       "2019-12-30 21:00:00   -1.561959\n",
       "2019-12-30 22:00:00   -1.561959\n",
       "2019-12-30 23:00:00   -1.561959\n",
       "2019-12-31 00:00:00    0.216733\n",
       "Freq: H, Length: 8737, dtype: float64"
      ]
     },
     "execution_count": 9,
     "metadata": {},
     "output_type": "execute_result"
    }
   ],
   "source": [
    "s3 = s1.resample('H').ffill()\n",
    "s3"
   ]
  },
  {
   "cell_type": "code",
   "execution_count": 10,
   "metadata": {},
   "outputs": [
    {
     "data": {
      "text/plain": [
       "2019-01-01 00:00:00    0.653888\n",
       "2019-01-01 01:00:00   -1.266449\n",
       "2019-01-01 02:00:00   -1.266449\n",
       "2019-01-01 03:00:00   -1.266449\n",
       "2019-01-01 04:00:00   -1.266449\n",
       "                         ...   \n",
       "2019-12-30 20:00:00    0.216733\n",
       "2019-12-30 21:00:00    0.216733\n",
       "2019-12-30 22:00:00    0.216733\n",
       "2019-12-30 23:00:00    0.216733\n",
       "2019-12-31 00:00:00    0.216733\n",
       "Freq: H, Length: 8737, dtype: float64"
      ]
     },
     "execution_count": 10,
     "metadata": {},
     "output_type": "execute_result"
    }
   ],
   "source": [
    "s4 = s1.resample('H').bfill()\n",
    "s4"
   ]
  },
  {
   "cell_type": "markdown",
   "metadata": {},
   "source": [
    "### 3"
   ]
  },
  {
   "cell_type": "code",
   "execution_count": 11,
   "metadata": {},
   "outputs": [
    {
     "data": {
      "text/plain": [
       "DatetimeIndex(['2019-01-01 00:00:00', '2019-01-01 01:00:00',\n",
       "               '2019-01-01 02:00:00', '2019-01-01 03:00:00',\n",
       "               '2019-01-01 04:00:00', '2019-01-01 05:00:00',\n",
       "               '2019-01-01 06:00:00', '2019-01-01 07:00:00',\n",
       "               '2019-01-01 08:00:00', '2019-01-01 09:00:00',\n",
       "               ...\n",
       "               '2019-12-30 15:00:00', '2019-12-30 16:00:00',\n",
       "               '2019-12-30 17:00:00', '2019-12-30 18:00:00',\n",
       "               '2019-12-30 19:00:00', '2019-12-30 20:00:00',\n",
       "               '2019-12-30 21:00:00', '2019-12-30 22:00:00',\n",
       "               '2019-12-30 23:00:00', '2019-12-31 00:00:00'],\n",
       "              dtype='datetime64[ns]', length=8737, freq='H')"
      ]
     },
     "execution_count": 11,
     "metadata": {},
     "output_type": "execute_result"
    }
   ],
   "source": [
    "datetime_index_2 = pd.date_range(start='2019-01-01', end='2019-12-31', freq='H')\n",
    "datetime_index_2"
   ]
  },
  {
   "cell_type": "code",
   "execution_count": 12,
   "metadata": {},
   "outputs": [
    {
     "data": {
      "text/html": [
       "<div>\n",
       "<style scoped>\n",
       "    .dataframe tbody tr th:only-of-type {\n",
       "        vertical-align: middle;\n",
       "    }\n",
       "\n",
       "    .dataframe tbody tr th {\n",
       "        vertical-align: top;\n",
       "    }\n",
       "\n",
       "    .dataframe thead th {\n",
       "        text-align: right;\n",
       "    }\n",
       "</style>\n",
       "<table border=\"1\" class=\"dataframe\">\n",
       "  <thead>\n",
       "    <tr style=\"text-align: right;\">\n",
       "      <th></th>\n",
       "    </tr>\n",
       "  </thead>\n",
       "  <tbody>\n",
       "    <tr>\n",
       "      <td>2019-01-01 00:00:00</td>\n",
       "    </tr>\n",
       "    <tr>\n",
       "      <td>2019-01-01 01:00:00</td>\n",
       "    </tr>\n",
       "    <tr>\n",
       "      <td>2019-01-01 02:00:00</td>\n",
       "    </tr>\n",
       "    <tr>\n",
       "      <td>2019-01-01 03:00:00</td>\n",
       "    </tr>\n",
       "    <tr>\n",
       "      <td>2019-01-01 04:00:00</td>\n",
       "    </tr>\n",
       "    <tr>\n",
       "      <td>...</td>\n",
       "    </tr>\n",
       "    <tr>\n",
       "      <td>2019-12-30 20:00:00</td>\n",
       "    </tr>\n",
       "    <tr>\n",
       "      <td>2019-12-30 21:00:00</td>\n",
       "    </tr>\n",
       "    <tr>\n",
       "      <td>2019-12-30 22:00:00</td>\n",
       "    </tr>\n",
       "    <tr>\n",
       "      <td>2019-12-30 23:00:00</td>\n",
       "    </tr>\n",
       "    <tr>\n",
       "      <td>2019-12-31 00:00:00</td>\n",
       "    </tr>\n",
       "  </tbody>\n",
       "</table>\n",
       "<p>8737 rows × 0 columns</p>\n",
       "</div>"
      ],
      "text/plain": [
       "Empty DataFrame\n",
       "Columns: []\n",
       "Index: [2019-01-01 00:00:00, 2019-01-01 01:00:00, 2019-01-01 02:00:00, 2019-01-01 03:00:00, 2019-01-01 04:00:00, 2019-01-01 05:00:00, 2019-01-01 06:00:00, 2019-01-01 07:00:00, 2019-01-01 08:00:00, 2019-01-01 09:00:00, 2019-01-01 10:00:00, 2019-01-01 11:00:00, 2019-01-01 12:00:00, 2019-01-01 13:00:00, 2019-01-01 14:00:00, 2019-01-01 15:00:00, 2019-01-01 16:00:00, 2019-01-01 17:00:00, 2019-01-01 18:00:00, 2019-01-01 19:00:00, 2019-01-01 20:00:00, 2019-01-01 21:00:00, 2019-01-01 22:00:00, 2019-01-01 23:00:00, 2019-01-02 00:00:00, 2019-01-02 01:00:00, 2019-01-02 02:00:00, 2019-01-02 03:00:00, 2019-01-02 04:00:00, 2019-01-02 05:00:00, 2019-01-02 06:00:00, 2019-01-02 07:00:00, 2019-01-02 08:00:00, 2019-01-02 09:00:00, 2019-01-02 10:00:00, 2019-01-02 11:00:00, 2019-01-02 12:00:00, 2019-01-02 13:00:00, 2019-01-02 14:00:00, 2019-01-02 15:00:00, 2019-01-02 16:00:00, 2019-01-02 17:00:00, 2019-01-02 18:00:00, 2019-01-02 19:00:00, 2019-01-02 20:00:00, 2019-01-02 21:00:00, 2019-01-02 22:00:00, 2019-01-02 23:00:00, 2019-01-03 00:00:00, 2019-01-03 01:00:00, 2019-01-03 02:00:00, 2019-01-03 03:00:00, 2019-01-03 04:00:00, 2019-01-03 05:00:00, 2019-01-03 06:00:00, 2019-01-03 07:00:00, 2019-01-03 08:00:00, 2019-01-03 09:00:00, 2019-01-03 10:00:00, 2019-01-03 11:00:00, 2019-01-03 12:00:00, 2019-01-03 13:00:00, 2019-01-03 14:00:00, 2019-01-03 15:00:00, 2019-01-03 16:00:00, 2019-01-03 17:00:00, 2019-01-03 18:00:00, 2019-01-03 19:00:00, 2019-01-03 20:00:00, 2019-01-03 21:00:00, 2019-01-03 22:00:00, 2019-01-03 23:00:00, 2019-01-04 00:00:00, 2019-01-04 01:00:00, 2019-01-04 02:00:00, 2019-01-04 03:00:00, 2019-01-04 04:00:00, 2019-01-04 05:00:00, 2019-01-04 06:00:00, 2019-01-04 07:00:00, 2019-01-04 08:00:00, 2019-01-04 09:00:00, 2019-01-04 10:00:00, 2019-01-04 11:00:00, 2019-01-04 12:00:00, 2019-01-04 13:00:00, 2019-01-04 14:00:00, 2019-01-04 15:00:00, 2019-01-04 16:00:00, 2019-01-04 17:00:00, 2019-01-04 18:00:00, 2019-01-04 19:00:00, 2019-01-04 20:00:00, 2019-01-04 21:00:00, 2019-01-04 22:00:00, 2019-01-04 23:00:00, 2019-01-05 00:00:00, 2019-01-05 01:00:00, 2019-01-05 02:00:00, 2019-01-05 03:00:00, ...]\n",
       "\n",
       "[8737 rows x 0 columns]"
      ]
     },
     "execution_count": 12,
     "metadata": {},
     "output_type": "execute_result"
    }
   ],
   "source": [
    "df1 = DataFrame(index=datetime_index_2)\n",
    "df1"
   ]
  },
  {
   "cell_type": "code",
   "execution_count": 13,
   "metadata": {},
   "outputs": [
    {
     "data": {
      "text/html": [
       "<div>\n",
       "<style scoped>\n",
       "    .dataframe tbody tr th:only-of-type {\n",
       "        vertical-align: middle;\n",
       "    }\n",
       "\n",
       "    .dataframe tbody tr th {\n",
       "        vertical-align: top;\n",
       "    }\n",
       "\n",
       "    .dataframe thead th {\n",
       "        text-align: right;\n",
       "    }\n",
       "</style>\n",
       "<table border=\"1\" class=\"dataframe\">\n",
       "  <thead>\n",
       "    <tr style=\"text-align: right;\">\n",
       "      <th></th>\n",
       "      <th>Alibaba</th>\n",
       "    </tr>\n",
       "  </thead>\n",
       "  <tbody>\n",
       "    <tr>\n",
       "      <td>2019-01-01 00:00:00</td>\n",
       "      <td>141</td>\n",
       "    </tr>\n",
       "    <tr>\n",
       "      <td>2019-01-01 01:00:00</td>\n",
       "      <td>104</td>\n",
       "    </tr>\n",
       "    <tr>\n",
       "      <td>2019-01-01 02:00:00</td>\n",
       "      <td>85</td>\n",
       "    </tr>\n",
       "    <tr>\n",
       "      <td>2019-01-01 03:00:00</td>\n",
       "      <td>100</td>\n",
       "    </tr>\n",
       "    <tr>\n",
       "      <td>2019-01-01 04:00:00</td>\n",
       "      <td>146</td>\n",
       "    </tr>\n",
       "    <tr>\n",
       "      <td>...</td>\n",
       "      <td>...</td>\n",
       "    </tr>\n",
       "    <tr>\n",
       "      <td>2019-12-30 20:00:00</td>\n",
       "      <td>83</td>\n",
       "    </tr>\n",
       "    <tr>\n",
       "      <td>2019-12-30 21:00:00</td>\n",
       "      <td>105</td>\n",
       "    </tr>\n",
       "    <tr>\n",
       "      <td>2019-12-30 22:00:00</td>\n",
       "      <td>150</td>\n",
       "    </tr>\n",
       "    <tr>\n",
       "      <td>2019-12-30 23:00:00</td>\n",
       "      <td>142</td>\n",
       "    </tr>\n",
       "    <tr>\n",
       "      <td>2019-12-31 00:00:00</td>\n",
       "      <td>100</td>\n",
       "    </tr>\n",
       "  </tbody>\n",
       "</table>\n",
       "<p>8737 rows × 1 columns</p>\n",
       "</div>"
      ],
      "text/plain": [
       "                     Alibaba\n",
       "2019-01-01 00:00:00      141\n",
       "2019-01-01 01:00:00      104\n",
       "2019-01-01 02:00:00       85\n",
       "2019-01-01 03:00:00      100\n",
       "2019-01-01 04:00:00      146\n",
       "...                      ...\n",
       "2019-12-30 20:00:00       83\n",
       "2019-12-30 21:00:00      105\n",
       "2019-12-30 22:00:00      150\n",
       "2019-12-30 23:00:00      142\n",
       "2019-12-31 00:00:00      100\n",
       "\n",
       "[8737 rows x 1 columns]"
      ]
     },
     "execution_count": 13,
     "metadata": {},
     "output_type": "execute_result"
    }
   ],
   "source": [
    "df1['Alibaba'] = np.random.randint(80, 160, size=len(datetime_index_2))\n",
    "df1"
   ]
  },
  {
   "cell_type": "code",
   "execution_count": 14,
   "metadata": {},
   "outputs": [
    {
     "data": {
      "text/html": [
       "<div>\n",
       "<style scoped>\n",
       "    .dataframe tbody tr th:only-of-type {\n",
       "        vertical-align: middle;\n",
       "    }\n",
       "\n",
       "    .dataframe tbody tr th {\n",
       "        vertical-align: top;\n",
       "    }\n",
       "\n",
       "    .dataframe thead th {\n",
       "        text-align: right;\n",
       "    }\n",
       "</style>\n",
       "<table border=\"1\" class=\"dataframe\">\n",
       "  <thead>\n",
       "    <tr style=\"text-align: right;\">\n",
       "      <th></th>\n",
       "      <th>Alibaba</th>\n",
       "      <th>Tencent</th>\n",
       "    </tr>\n",
       "  </thead>\n",
       "  <tbody>\n",
       "    <tr>\n",
       "      <td>2019-01-01 00:00:00</td>\n",
       "      <td>141</td>\n",
       "      <td>105</td>\n",
       "    </tr>\n",
       "    <tr>\n",
       "      <td>2019-01-01 01:00:00</td>\n",
       "      <td>104</td>\n",
       "      <td>114</td>\n",
       "    </tr>\n",
       "    <tr>\n",
       "      <td>2019-01-01 02:00:00</td>\n",
       "      <td>85</td>\n",
       "      <td>119</td>\n",
       "    </tr>\n",
       "    <tr>\n",
       "      <td>2019-01-01 03:00:00</td>\n",
       "      <td>100</td>\n",
       "      <td>91</td>\n",
       "    </tr>\n",
       "    <tr>\n",
       "      <td>2019-01-01 04:00:00</td>\n",
       "      <td>146</td>\n",
       "      <td>60</td>\n",
       "    </tr>\n",
       "    <tr>\n",
       "      <td>...</td>\n",
       "      <td>...</td>\n",
       "      <td>...</td>\n",
       "    </tr>\n",
       "    <tr>\n",
       "      <td>2019-12-30 20:00:00</td>\n",
       "      <td>83</td>\n",
       "      <td>135</td>\n",
       "    </tr>\n",
       "    <tr>\n",
       "      <td>2019-12-30 21:00:00</td>\n",
       "      <td>105</td>\n",
       "      <td>149</td>\n",
       "    </tr>\n",
       "    <tr>\n",
       "      <td>2019-12-30 22:00:00</td>\n",
       "      <td>150</td>\n",
       "      <td>101</td>\n",
       "    </tr>\n",
       "    <tr>\n",
       "      <td>2019-12-30 23:00:00</td>\n",
       "      <td>142</td>\n",
       "      <td>142</td>\n",
       "    </tr>\n",
       "    <tr>\n",
       "      <td>2019-12-31 00:00:00</td>\n",
       "      <td>100</td>\n",
       "      <td>121</td>\n",
       "    </tr>\n",
       "  </tbody>\n",
       "</table>\n",
       "<p>8737 rows × 2 columns</p>\n",
       "</div>"
      ],
      "text/plain": [
       "                     Alibaba  Tencent\n",
       "2019-01-01 00:00:00      141      105\n",
       "2019-01-01 01:00:00      104      114\n",
       "2019-01-01 02:00:00       85      119\n",
       "2019-01-01 03:00:00      100       91\n",
       "2019-01-01 04:00:00      146       60\n",
       "...                      ...      ...\n",
       "2019-12-30 20:00:00       83      135\n",
       "2019-12-30 21:00:00      105      149\n",
       "2019-12-30 22:00:00      150      101\n",
       "2019-12-30 23:00:00      142      142\n",
       "2019-12-31 00:00:00      100      121\n",
       "\n",
       "[8737 rows x 2 columns]"
      ]
     },
     "execution_count": 14,
     "metadata": {},
     "output_type": "execute_result"
    }
   ],
   "source": [
    "df1['Tencent'] = np.random.randint(50, 150, size=len(datetime_index_2))\n",
    "df1"
   ]
  },
  {
   "cell_type": "code",
   "execution_count": 16,
   "metadata": {},
   "outputs": [
    {
     "data": {
      "image/png": "[encoded data removed]",
      "text/plain": [
       "<Figure size 432x288 with 1 Axes>"
      ]
     },
     "metadata": {
      "needs_background": "light"
     },
     "output_type": "display_data"
    }
   ],
   "source": [
    "plt.show(df1.plot())"
   ]
  },
  {
   "cell_type": "markdown",
   "metadata": {},
   "source": [
    "### 4"
   ]
  },
  {
   "cell_type": "code",
   "execution_count": 18,
   "metadata": {},
   "outputs": [
    {
     "data": {
      "text/html": [
       "<div>\n",
       "<style scoped>\n",
       "    .dataframe tbody tr th:only-of-type {\n",
       "        vertical-align: middle;\n",
       "    }\n",
       "\n",
       "    .dataframe tbody tr th {\n",
       "        vertical-align: top;\n",
       "    }\n",
       "\n",
       "    .dataframe thead th {\n",
       "        text-align: right;\n",
       "    }\n",
       "</style>\n",
       "<table border=\"1\" class=\"dataframe\">\n",
       "  <thead>\n",
       "    <tr style=\"text-align: right;\">\n",
       "      <th></th>\n",
       "      <th>Alibaba</th>\n",
       "      <th>Tencent</th>\n",
       "    </tr>\n",
       "  </thead>\n",
       "  <tbody>\n",
       "    <tr>\n",
       "      <td>2019-01-01 00:00:00</td>\n",
       "      <td>141</td>\n",
       "      <td>105</td>\n",
       "    </tr>\n",
       "    <tr>\n",
       "      <td>2019-01-01 01:00:00</td>\n",
       "      <td>104</td>\n",
       "      <td>114</td>\n",
       "    </tr>\n",
       "    <tr>\n",
       "      <td>2019-01-01 02:00:00</td>\n",
       "      <td>85</td>\n",
       "      <td>119</td>\n",
       "    </tr>\n",
       "    <tr>\n",
       "      <td>2019-01-01 03:00:00</td>\n",
       "      <td>100</td>\n",
       "      <td>91</td>\n",
       "    </tr>\n",
       "    <tr>\n",
       "      <td>2019-01-01 04:00:00</td>\n",
       "      <td>146</td>\n",
       "      <td>60</td>\n",
       "    </tr>\n",
       "    <tr>\n",
       "      <td>...</td>\n",
       "      <td>...</td>\n",
       "      <td>...</td>\n",
       "    </tr>\n",
       "    <tr>\n",
       "      <td>2019-12-30 20:00:00</td>\n",
       "      <td>83</td>\n",
       "      <td>135</td>\n",
       "    </tr>\n",
       "    <tr>\n",
       "      <td>2019-12-30 21:00:00</td>\n",
       "      <td>105</td>\n",
       "      <td>149</td>\n",
       "    </tr>\n",
       "    <tr>\n",
       "      <td>2019-12-30 22:00:00</td>\n",
       "      <td>150</td>\n",
       "      <td>101</td>\n",
       "    </tr>\n",
       "    <tr>\n",
       "      <td>2019-12-30 23:00:00</td>\n",
       "      <td>142</td>\n",
       "      <td>142</td>\n",
       "    </tr>\n",
       "    <tr>\n",
       "      <td>2019-12-31 00:00:00</td>\n",
       "      <td>100</td>\n",
       "      <td>121</td>\n",
       "    </tr>\n",
       "  </tbody>\n",
       "</table>\n",
       "<p>8737 rows × 2 columns</p>\n",
       "</div>"
      ],
      "text/plain": [
       "                     Alibaba  Tencent\n",
       "2019-01-01 00:00:00      141      105\n",
       "2019-01-01 01:00:00      104      114\n",
       "2019-01-01 02:00:00       85      119\n",
       "2019-01-01 03:00:00      100       91\n",
       "2019-01-01 04:00:00      146       60\n",
       "...                      ...      ...\n",
       "2019-12-30 20:00:00       83      135\n",
       "2019-12-30 21:00:00      105      149\n",
       "2019-12-30 22:00:00      150      101\n",
       "2019-12-30 23:00:00      142      142\n",
       "2019-12-31 00:00:00      100      121\n",
       "\n",
       "[8737 rows x 2 columns]"
      ]
     },
     "execution_count": 18,
     "metadata": {},
     "output_type": "execute_result"
    }
   ],
   "source": [
    "df1"
   ]
  },
  {
   "cell_type": "code",
   "execution_count": 19,
   "metadata": {},
   "outputs": [],
   "source": [
    "df2 = DataFrame()"
   ]
  },
  {
   "cell_type": "code",
   "execution_count": 20,
   "metadata": {},
   "outputs": [],
   "source": [
    "df2['Alibaba'] = df1['Alibaba'].resample('M').mean()\n",
    "df2['Tencent'] = df1['Tencent'].resample('M').mean()"
   ]
  },
  {
   "cell_type": "code",
   "execution_count": 21,
   "metadata": {},
   "outputs": [
    {
     "data": {
      "text/html": [
       "<div>\n",
       "<style scoped>\n",
       "    .dataframe tbody tr th:only-of-type {\n",
       "        vertical-align: middle;\n",
       "    }\n",
       "\n",
       "    .dataframe tbody tr th {\n",
       "        vertical-align: top;\n",
       "    }\n",
       "\n",
       "    .dataframe thead th {\n",
       "        text-align: right;\n",
       "    }\n",
       "</style>\n",
       "<table border=\"1\" class=\"dataframe\">\n",
       "  <thead>\n",
       "    <tr style=\"text-align: right;\">\n",
       "      <th></th>\n",
       "      <th>Alibaba</th>\n",
       "      <th>Tencent</th>\n",
       "    </tr>\n",
       "  </thead>\n",
       "  <tbody>\n",
       "    <tr>\n",
       "      <td>2019-01-31</td>\n",
       "      <td>120.165323</td>\n",
       "      <td>98.409946</td>\n",
       "    </tr>\n",
       "    <tr>\n",
       "      <td>2019-02-28</td>\n",
       "      <td>119.236607</td>\n",
       "      <td>99.907738</td>\n",
       "    </tr>\n",
       "    <tr>\n",
       "      <td>2019-03-31</td>\n",
       "      <td>120.733871</td>\n",
       "      <td>99.797043</td>\n",
       "    </tr>\n",
       "    <tr>\n",
       "      <td>2019-04-30</td>\n",
       "      <td>118.287500</td>\n",
       "      <td>99.401389</td>\n",
       "    </tr>\n",
       "    <tr>\n",
       "      <td>2019-05-31</td>\n",
       "      <td>118.830645</td>\n",
       "      <td>98.970430</td>\n",
       "    </tr>\n",
       "    <tr>\n",
       "      <td>2019-06-30</td>\n",
       "      <td>119.048611</td>\n",
       "      <td>98.663889</td>\n",
       "    </tr>\n",
       "    <tr>\n",
       "      <td>2019-07-31</td>\n",
       "      <td>121.498656</td>\n",
       "      <td>102.134409</td>\n",
       "    </tr>\n",
       "    <tr>\n",
       "      <td>2019-08-31</td>\n",
       "      <td>118.272849</td>\n",
       "      <td>98.905914</td>\n",
       "    </tr>\n",
       "    <tr>\n",
       "      <td>2019-09-30</td>\n",
       "      <td>121.265278</td>\n",
       "      <td>100.029167</td>\n",
       "    </tr>\n",
       "    <tr>\n",
       "      <td>2019-10-31</td>\n",
       "      <td>120.565860</td>\n",
       "      <td>99.282258</td>\n",
       "    </tr>\n",
       "    <tr>\n",
       "      <td>2019-11-30</td>\n",
       "      <td>118.468056</td>\n",
       "      <td>97.880556</td>\n",
       "    </tr>\n",
       "    <tr>\n",
       "      <td>2019-12-31</td>\n",
       "      <td>120.380028</td>\n",
       "      <td>99.841886</td>\n",
       "    </tr>\n",
       "  </tbody>\n",
       "</table>\n",
       "</div>"
      ],
      "text/plain": [
       "               Alibaba     Tencent\n",
       "2019-01-31  120.165323   98.409946\n",
       "2019-02-28  119.236607   99.907738\n",
       "2019-03-31  120.733871   99.797043\n",
       "2019-04-30  118.287500   99.401389\n",
       "2019-05-31  118.830645   98.970430\n",
       "2019-06-30  119.048611   98.663889\n",
       "2019-07-31  121.498656  102.134409\n",
       "2019-08-31  118.272849   98.905914\n",
       "2019-09-30  121.265278  100.029167\n",
       "2019-10-31  120.565860   99.282258\n",
       "2019-11-30  118.468056   97.880556\n",
       "2019-12-31  120.380028   99.841886"
      ]
     },
     "execution_count": 21,
     "metadata": {},
     "output_type": "execute_result"
    }
   ],
   "source": [
    "df2"
   ]
  },
  {
   "cell_type": "code",
   "execution_count": 22,
   "metadata": {},
   "outputs": [
    {
     "data": {
      "image/png": "[encoded data removed]",
      "text/plain": [
       "<Figure size 432x288 with 1 Axes>"
      ]
     },
     "metadata": {
      "needs_background": "light"
     },
     "output_type": "display_data"
    }
   ],
   "source": [
    "plt.show(df2.plot())"
   ]
  }
 ],
 "metadata": {
  "kernelspec": {
   "display_name": "Python 3",
   "language": "python",
   "name": "python3"
  },
  "language_info": {
   "codemirror_mode": {
    "name": "ipython",
    "version": 3
   },
   "file_extension": ".py",
   "mimetype": "text/x-python",
   "name": "python",
   "nbconvert_exporter": "python",
   "pygments_lexer": "ipython3",
   "version": "3.7.4"
  }
 },
 "nbformat": 4,
 "nbformat_minor": 2
}
